{
  "nbformat": 4,
  "nbformat_minor": 0,
  "metadata": {
    "colab": {
      "provenance": [],
      "authorship_tag": "ABX9TyM/ugqnAwAR9tPep568Ucwo",
      "include_colab_link": true
    },
    "kernelspec": {
      "name": "python3",
      "display_name": "Python 3"
    },
    "language_info": {
      "name": "python"
    }
  },
  "cells": [
    {
      "cell_type": "markdown",
      "metadata": {
        "id": "view-in-github",
        "colab_type": "text"
      },
      "source": [
        "<a href=\"https://colab.research.google.com/github/2303A51674/NLP/blob/main/NLP%5BLAB_01%5D.ipynb\" target=\"_parent\"><img src=\"https://colab.research.google.com/assets/colab-badge.svg\" alt=\"Open In Colab\"/></a>"
      ]
    },
    {
      "cell_type": "code",
      "execution_count": 1,
      "metadata": {
        "colab": {
          "base_uri": "https://localhost:8080/"
        },
        "id": "DUdd7CC72KME",
        "outputId": "7ea8d158-f752-4ef6-8c7d-5fe9b4702828"
      },
      "outputs": [
        {
          "output_type": "stream",
          "name": "stderr",
          "text": [
            "[nltk_data] Downloading package punkt_tab to /root/nltk_data...\n",
            "[nltk_data]   Unzipping tokenizers/punkt_tab.zip.\n"
          ]
        },
        {
          "output_type": "stream",
          "name": "stdout",
          "text": [
            "Tokens ['I', 'slept', 'like', 'a', 'log', 'last', 'night', '.']\n"
          ]
        }
      ],
      "source": [
        "import nltk\n",
        "nltk.download('punkt_tab')\n",
        "from nltk.tokenize import word_tokenize\n",
        "\n",
        "sentence = \"I slept like a log last night.\"\n",
        "tokens= word_tokenize(sentence)\n",
        "print(\"Tokens\",tokens)"
      ]
    },
    {
      "cell_type": "code",
      "source": [
        "import nltk\n",
        "nltk.download('punkt')\n",
        "from nltk.tokenize import word_tokenize\n",
        "from nltk.corpus import stopwords\n",
        "nltk.download('stopwords')\n",
        "sentence = \"I slept like a log last night.\"\n",
        "tokens= word_tokenize(sentence)\n",
        "print(\"Tokens\",tokens)\n",
        "stop_words=set(stopwords.words(\"english\"))\n",
        "filtered_tokens=[word for word in tokens if word.lower() not in stop_words]\n",
        "print(\"Filtered TOkens : \",filtered_tokens)"
      ],
      "metadata": {
        "colab": {
          "base_uri": "https://localhost:8080/"
        },
        "id": "vslxjLNX3sCw",
        "outputId": "4c41cc1e-2ec9-485a-d744-ef7ff877b749"
      },
      "execution_count": 2,
      "outputs": [
        {
          "output_type": "stream",
          "name": "stderr",
          "text": [
            "[nltk_data] Downloading package punkt to /root/nltk_data...\n",
            "[nltk_data]   Unzipping tokenizers/punkt.zip.\n"
          ]
        },
        {
          "output_type": "stream",
          "name": "stdout",
          "text": [
            "Tokens ['I', 'slept', 'like', 'a', 'log', 'last', 'night', '.']\n",
            "Filtered TOkens :  ['slept', 'like', 'log', 'last', 'night', '.']\n"
          ]
        },
        {
          "output_type": "stream",
          "name": "stderr",
          "text": [
            "[nltk_data] Downloading package stopwords to /root/nltk_data...\n",
            "[nltk_data]   Unzipping corpora/stopwords.zip.\n"
          ]
        }
      ]
    },
    {
      "cell_type": "code",
      "source": [
        "import nltk\n",
        "from nltk.tokenize import word_tokenize\n",
        "from nltk.stem import PorterStemmer\n",
        "nltk.download('wordent')\n",
        "sentence = \"I slept like a log last night.\"\n",
        "tokens= word_tokenize(sentence)\n",
        "print(tokens)\n",
        "stemer=PorterStemmer()\n",
        "stemer_tokens=[stemer.stem(word) for word in tokens]\n",
        "print(stemer_tokens)"
      ],
      "metadata": {
        "colab": {
          "base_uri": "https://localhost:8080/"
        },
        "id": "OzskqSuU5MNR",
        "outputId": "365b81cf-4654-4999-dfcd-5c04d44dc605"
      },
      "execution_count": 3,
      "outputs": [
        {
          "output_type": "stream",
          "name": "stdout",
          "text": [
            "['I', 'slept', 'like', 'a', 'log', 'last', 'night', '.']\n",
            "['i', 'slept', 'like', 'a', 'log', 'last', 'night', '.']\n"
          ]
        },
        {
          "output_type": "stream",
          "name": "stderr",
          "text": [
            "[nltk_data] Error loading wordent: Package 'wordent' not found in\n",
            "[nltk_data]     index\n"
          ]
        }
      ]
    },
    {
      "cell_type": "code",
      "source": [
        "import nltk\n",
        "from nltk.tokenize import word_tokenize\n",
        "from nltk import WordNetLemmatizer\n",
        "nltk.download('wordnet')\n",
        "sentence = \"The lion roars loudly in the forest at night always.\"\n",
        "tokens=word_tokenize(sentence)\n",
        "print(\"Tpkens is : \",tokens)\n",
        "Lematizer=WordNetLemmatizer()\n",
        "l_tokens=[Lematizer.lemmatize(word) for word in tokens]\n",
        "print(\"Lematizer is :\",l_tokens)"
      ],
      "metadata": {
        "id": "_GR0nPk58Qsi",
        "colab": {
          "base_uri": "https://localhost:8080/"
        },
        "outputId": "2a177f53-e2df-43fc-bf66-9fc61981b548"
      },
      "execution_count": 4,
      "outputs": [
        {
          "output_type": "stream",
          "name": "stderr",
          "text": [
            "[nltk_data] Downloading package wordnet to /root/nltk_data...\n"
          ]
        },
        {
          "output_type": "stream",
          "name": "stdout",
          "text": [
            "Tpkens is :  ['The', 'lion', 'roars', 'loudly', 'in', 'the', 'forest', 'at', 'night', 'always', '.']\n",
            "Lematizer is : ['The', 'lion', 'roar', 'loudly', 'in', 'the', 'forest', 'at', 'night', 'always', '.']\n"
          ]
        }
      ]
    }
  ]
}